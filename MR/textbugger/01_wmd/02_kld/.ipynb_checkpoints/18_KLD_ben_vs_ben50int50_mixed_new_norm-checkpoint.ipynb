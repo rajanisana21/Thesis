{
 "cells": [
  {
   "cell_type": "markdown",
   "metadata": {},
   "source": [
    "### <font color='red'>__REVISED__</font>"
   ]
  },
  {
   "cell_type": "markdown",
   "metadata": {},
   "source": [
    "#### Importing packages"
   ]
  },
  {
   "cell_type": "code",
   "execution_count": 1,
   "metadata": {},
   "outputs": [],
   "source": [
    "import numpy as np\n",
    "import pandas as pd\n",
    "from scipy import sparse\n",
    "import seaborn as sns\n",
    "import matplotlib.pyplot as plt"
   ]
  },
  {
   "cell_type": "markdown",
   "metadata": {},
   "source": [
    "#### get benign scores"
   ]
  },
  {
   "cell_type": "code",
   "execution_count": 2,
   "metadata": {
    "scrolled": true
   },
   "outputs": [
    {
     "data": {
      "text/plain": [
       "963"
      ]
     },
     "execution_count": 2,
     "metadata": {},
     "output_type": "execute_result"
    }
   ],
   "source": [
    "ben_score = []\n",
    "f = open('11_ben100_file_new_norm.txt','r')\n",
    "\n",
    "for line in f:\n",
    "    ben_score.append(line.strip())\n",
    "len(ben_score)"
   ]
  },
  {
   "cell_type": "code",
   "execution_count": 3,
   "metadata": {},
   "outputs": [],
   "source": [
    "ben_score = [float(i) for i in ben_score] "
   ]
  },
  {
   "cell_type": "code",
   "execution_count": 4,
   "metadata": {},
   "outputs": [],
   "source": [
    "#ben_score"
   ]
  },
  {
   "cell_type": "markdown",
   "metadata": {},
   "source": [
    "#### get other text scores (benign shuffled)"
   ]
  },
  {
   "cell_type": "code",
   "execution_count": 4,
   "metadata": {},
   "outputs": [
    {
     "data": {
      "text/plain": [
       "995"
      ]
     },
     "execution_count": 4,
     "metadata": {},
     "output_type": "execute_result"
    }
   ],
   "source": [
    "txt_score = []\n",
    "f = open('18_ben50int50_mixed_new_norm.txt','r')\n",
    "\n",
    "for line in f:\n",
    "    txt_score.append(line.strip())\n",
    "len(txt_score)"
   ]
  },
  {
   "cell_type": "code",
   "execution_count": 5,
   "metadata": {},
   "outputs": [],
   "source": [
    "txt_score = [float(i) for i in txt_score] "
   ]
  },
  {
   "cell_type": "markdown",
   "metadata": {},
   "source": [
    "#### look at minimum scores in both lists"
   ]
  },
  {
   "cell_type": "code",
   "execution_count": 6,
   "metadata": {
    "scrolled": true
   },
   "outputs": [
    {
     "data": {
      "text/plain": [
       "0.0"
      ]
     },
     "execution_count": 6,
     "metadata": {},
     "output_type": "execute_result"
    }
   ],
   "source": [
    "min(ben_score)"
   ]
  },
  {
   "cell_type": "code",
   "execution_count": 7,
   "metadata": {
    "scrolled": false
   },
   "outputs": [
    {
     "data": {
      "text/plain": [
       "0.0"
      ]
     },
     "execution_count": 7,
     "metadata": {},
     "output_type": "execute_result"
    }
   ],
   "source": [
    "min(txt_score)"
   ]
  },
  {
   "cell_type": "markdown",
   "metadata": {},
   "source": [
    "#### need to remove zeroes"
   ]
  },
  {
   "cell_type": "code",
   "execution_count": 8,
   "metadata": {},
   "outputs": [],
   "source": [
    "count = 0\n",
    "for i in txt_score:\n",
    "    if i == 0:\n",
    "        count+=1"
   ]
  },
  {
   "cell_type": "code",
   "execution_count": 9,
   "metadata": {},
   "outputs": [
    {
     "data": {
      "text/plain": [
       "1"
      ]
     },
     "execution_count": 9,
     "metadata": {},
     "output_type": "execute_result"
    }
   ],
   "source": [
    "count"
   ]
  },
  {
   "cell_type": "code",
   "execution_count": 10,
   "metadata": {},
   "outputs": [],
   "source": [
    "count = 0\n",
    "for i in ben_score:\n",
    "    if i == 0:\n",
    "        count+=1"
   ]
  },
  {
   "cell_type": "code",
   "execution_count": 11,
   "metadata": {},
   "outputs": [
    {
     "data": {
      "text/plain": [
       "1"
      ]
     },
     "execution_count": 11,
     "metadata": {},
     "output_type": "execute_result"
    }
   ],
   "source": [
    "count"
   ]
  },
  {
   "cell_type": "code",
   "execution_count": 12,
   "metadata": {},
   "outputs": [],
   "source": [
    "ben_score_new = []\n",
    "for i in range(len(ben_score)-1):\n",
    "    if ben_score[i] != 0:\n",
    "        ben_score_new.append(ben_score[i])"
   ]
  },
  {
   "cell_type": "code",
   "execution_count": 13,
   "metadata": {},
   "outputs": [],
   "source": [
    "text_score_new = []\n",
    "for i in range(len(txt_score)-1):\n",
    "    if txt_score[i] != 0:\n",
    "        text_score_new.append(txt_score[i])"
   ]
  },
  {
   "cell_type": "code",
   "execution_count": 14,
   "metadata": {
    "scrolled": false
   },
   "outputs": [
    {
     "data": {
      "text/plain": [
       "0.0357734283175008"
      ]
     },
     "execution_count": 14,
     "metadata": {},
     "output_type": "execute_result"
    }
   ],
   "source": [
    "min(ben_score_new)"
   ]
  },
  {
   "cell_type": "code",
   "execution_count": 15,
   "metadata": {},
   "outputs": [
    {
     "data": {
      "text/plain": [
       "0.0029475363247409812"
      ]
     },
     "execution_count": 15,
     "metadata": {},
     "output_type": "execute_result"
    }
   ],
   "source": [
    "min(text_score_new)"
   ]
  },
  {
   "cell_type": "markdown",
   "metadata": {},
   "source": [
    "#### check length of both lists now"
   ]
  },
  {
   "cell_type": "code",
   "execution_count": 16,
   "metadata": {},
   "outputs": [
    {
     "data": {
      "text/plain": [
       "993"
      ]
     },
     "execution_count": 16,
     "metadata": {},
     "output_type": "execute_result"
    }
   ],
   "source": [
    "len(text_score_new)"
   ]
  },
  {
   "cell_type": "code",
   "execution_count": 17,
   "metadata": {
    "scrolled": true
   },
   "outputs": [
    {
     "data": {
      "text/plain": [
       "961"
      ]
     },
     "execution_count": 17,
     "metadata": {},
     "output_type": "execute_result"
    }
   ],
   "source": [
    "len(ben_score_new)"
   ]
  },
  {
   "cell_type": "markdown",
   "metadata": {},
   "source": [
    "#### need to make both lists equal"
   ]
  },
  {
   "cell_type": "code",
   "execution_count": 18,
   "metadata": {},
   "outputs": [],
   "source": [
    "def make_equal(list1, list2):\n",
    "    if (len(list1) > len(list2)):\n",
    "        for i in range(len(list1)-len(list2)+1):\n",
    "            if i != 0:\n",
    "                list1.pop(len(list1)-1)\n",
    "    elif (len(list2) > len(list1)):\n",
    "        for i in range(len(list2)-len(list1)+1):\n",
    "            if i != 0:\n",
    "                list2.pop(len(list2)-1)"
   ]
  },
  {
   "cell_type": "code",
   "execution_count": 19,
   "metadata": {},
   "outputs": [],
   "source": [
    "make_equal(ben_score_new,text_score_new)"
   ]
  },
  {
   "cell_type": "code",
   "execution_count": 20,
   "metadata": {
    "scrolled": true
   },
   "outputs": [
    {
     "data": {
      "text/plain": [
       "961"
      ]
     },
     "execution_count": 20,
     "metadata": {},
     "output_type": "execute_result"
    }
   ],
   "source": [
    "len(ben_score_new)"
   ]
  },
  {
   "cell_type": "code",
   "execution_count": 21,
   "metadata": {},
   "outputs": [
    {
     "data": {
      "text/plain": [
       "961"
      ]
     },
     "execution_count": 21,
     "metadata": {},
     "output_type": "execute_result"
    }
   ],
   "source": [
    "len(text_score_new)"
   ]
  },
  {
   "cell_type": "markdown",
   "metadata": {},
   "source": [
    "### Plot both distributions"
   ]
  },
  {
   "cell_type": "code",
   "execution_count": 22,
   "metadata": {},
   "outputs": [
    {
     "data": {
      "text/plain": [
       "Text(0, 0.5, 'Density')"
      ]
     },
     "execution_count": 22,
     "metadata": {},
     "output_type": "execute_result"
    },
    {
     "data": {
      "image/png": "[encoded data removed]",
      "text/plain": [
       "<Figure size 432x288 with 1 Axes>"
      ]
     },
     "metadata": {
      "needs_background": "light"
     },
     "output_type": "display_data"
    }
   ],
   "source": [
    "# Density Plot and Histogram of all normalized benign scores\n",
    "sns.distplot(ben_score_new, hist=False, kde=True, \n",
    "             bins=int(180/5), color = 'green', \n",
    "             hist_kws={'edgecolor':'black'},\n",
    "             kde_kws={'shade': True , 'linewidth': 3}).set(xlim=(-0.25, 1.25),ylim=(0, 10))\n",
    "plt.title('Density Plot for Benign 100% Sequential Similarity Scores')\n",
    "plt.xlabel('Word Mover Distance (Normalized)')\n",
    "plt.ylabel('Density')"
   ]
  },
  {
   "cell_type": "code",
   "execution_count": 23,
   "metadata": {},
   "outputs": [
    {
     "data": {
      "text/plain": [
       "Text(0, 0.5, 'Density')"
      ]
     },
     "execution_count": 23,
     "metadata": {},
     "output_type": "execute_result"
    },
    {
     "data": {
      "image/png": "[encoded data removed]",
      "text/plain": [
       "<Figure size 432x288 with 1 Axes>"
      ]
     },
     "metadata": {
      "needs_background": "light"
     },
     "output_type": "display_data"
    }
   ],
   "source": [
    "# Density Plot and Histogram of all normalized benign scores\n",
    "sns.distplot(text_score_new, hist=False, kde=True, \n",
    "             bins=int(180/5), color = 'red', \n",
    "             hist_kws={'edgecolor':'black'},\n",
    "             kde_kws={'shade': True , 'linewidth': 3}).set(xlim=(-0.25, 1.25),ylim=(0, 10))\n",
    "plt.title('Density Plot for Benign 50% Intermediate 50% Mixed Similarity Scores')\n",
    "plt.xlabel('Word Mover Distance (Normalized)')\n",
    "plt.ylabel('Density')"
   ]
  },
  {
   "cell_type": "markdown",
   "metadata": {},
   "source": [
    "### Divergence \n",
    "<br>\n",
    "There are many situations where we may want to compare two probability distributions.\n",
    "<br> <br>\n",
    "Specifically, we may have a single random variable and two different probability distributions for the variable, such as a true distribution and an approximation of that distribution.\n",
    "<br> <br>\n",
    "In situations like this, it can be useful to quantify the difference between the distributions. Generally, this is referred to as the problem of calculating the statistical distance between two statistical objects, e.g. probability distributions.\n",
    "<br> <br>\n",
    "One approach is to calculate a distance measure between the two distributions. This can be challenging as it can be difficult to interpret the measure.\n",
    "<br> <br>\n",
    "Instead, it is more common to calculate a divergence between two probability distributions. A divergence is like a measure but is not symmetrical. This means that a divergence is a scoring of how one distribution differs from another, where calculating the divergence for distributions P and Q would give a different score from Q and P."
   ]
  },
  {
   "cell_type": "markdown",
   "metadata": {},
   "source": [
    "### Kullback Leibler\n",
    "\n",
    "__Calculations__ <br> <br>\n",
    "The Kullback-Leibler Divergence score, or KL divergence score, quantifies how much one probability distribution differs from another probability distribution.\n",
    "<br> <br>\n",
    "The KL divergence between two distributions Q and P is often stated using the following notation:\n",
    "<br> <br>\n",
    "KL(P || Q)\n",
    "Where the “||” operator indicates “divergence” or Ps divergence from Q.\n",
    "<br> <br>\n",
    "KL divergence can be calculated as the negative sum of probability of each event in P multiplied by the log of the probability of the event in Q over the probability of the event in P.\n",
    "<br> <br>\n",
    "KL(P || Q) = – sum x in X P(x) * log(Q(x) / P(x))\n",
    "The value within the sum is the divergence for a given event\n",
    "<br> <br>\n",
    "This is the same as the positive sum of probability of each event in P multiplied by the log of the probability of the event in P over the probability of the event in Q (e.g. the terms in the fraction are flipped). This is the more common implementation used in practice.\n",
    "<br> <br>\n",
    "KL(P || Q) = sum x in X P(x) * log(P(x) / Q(x))\n",
    "<br> <br>\n",
    "__Intuition__ <br> <br>\n",
    "The intuition for the KL divergence score is that when the probability for an event from P is large, but the probability for the same event in Q is small, there is a large divergence. When the probability from P is small and the probability from Q is large, there is also a large divergence, but not as large as the first case.\n",
    "<br> <br>\n",
    "__When the score is 0, it suggests that both distributions are identical, otherwise the score is positive.__\n",
    "<br> <br>\n",
    "Importantly, the KL divergence score is not symmetrical, for example:\n",
    "<br> <br>\n",
    "KL(P || Q) != KL(Q || P)"
   ]
  },
  {
   "cell_type": "markdown",
   "metadata": {},
   "source": [
    "__METHOD 1__"
   ]
  },
  {
   "cell_type": "code",
   "execution_count": 24,
   "metadata": {},
   "outputs": [
    {
     "name": "stdout",
     "output_type": "stream",
     "text": [
      "KL(Text_Score || Ben_Score): 252.956 nats\n",
      "KL(Ben_Score || Text_Score): -151.710 nats\n"
     ]
    }
   ],
   "source": [
    "# example of calculating the kl divergence (relative entropy) with scipy\n",
    "from scipy.special import rel_entr\n",
    "\n",
    "# calculate (P || Q)\n",
    "kl_pq = rel_entr(text_score_new, ben_score_new)\n",
    "print('KL(Text_Score || Ben_Score): %.3f nats' % sum(kl_pq))\n",
    "# calculate (Q || P)\n",
    "kl_qp = rel_entr(ben_score_new, text_score_new)\n",
    "print('KL(Ben_Score || Text_Score): %.3f nats' % sum(kl_qp))"
   ]
  },
  {
   "cell_type": "markdown",
   "metadata": {},
   "source": [
    "__METHOD 2__"
   ]
  },
  {
   "cell_type": "code",
   "execution_count": 25,
   "metadata": {},
   "outputs": [],
   "source": [
    "# calculate the kl divergence\n",
    "def kl_divergence(p, q):\n",
    "    return sum(p[i] * log2(p[i]/q[i]) for i in range(len(p)))"
   ]
  },
  {
   "cell_type": "code",
   "execution_count": 26,
   "metadata": {},
   "outputs": [],
   "source": [
    "from math import log2"
   ]
  },
  {
   "cell_type": "code",
   "execution_count": 27,
   "metadata": {},
   "outputs": [
    {
     "name": "stdout",
     "output_type": "stream",
     "text": [
      "KL(Text_Score || Ben_Score): 364.939 bits\n",
      "KL(Ben_Score || Text_Score): -218.871 bits\n"
     ]
    }
   ],
   "source": [
    "# calculate (ben_score || text_score)\n",
    "kl_pq = kl_divergence(text_score_new, ben_score_new)\n",
    "print('KL(Text_Score || Ben_Score): %.3f bits' % kl_pq)\n",
    "# calculate (Q || P)\n",
    "kl_qp = kl_divergence(ben_score_new, text_score_new)\n",
    "print('KL(Ben_Score || Text_Score): %.3f bits' % kl_qp)"
   ]
  },
  {
   "cell_type": "markdown",
   "metadata": {},
   "source": [
    "### Jensen-Shannon Divergence"
   ]
  },
  {
   "cell_type": "markdown",
   "metadata": {},
   "source": [
    "__METHOD 1__"
   ]
  },
  {
   "cell_type": "code",
   "execution_count": 28,
   "metadata": {},
   "outputs": [],
   "source": [
    "# calculate the kl divergence\n",
    "def kl_divergence(p, q):\n",
    "    return sum(p[i] * log2(p[i]/q[i]) for i in range(len(p)))\n",
    "\n",
    "# calculate the js divergence\n",
    "def js_divergence(p, q):\n",
    "    m = 0.5 * (p + q)\n",
    "    return 0.5 * kl_divergence(p, m) + 0.5 * kl_divergence(q, m)"
   ]
  },
  {
   "cell_type": "code",
   "execution_count": 29,
   "metadata": {},
   "outputs": [
    {
     "name": "stdout",
     "output_type": "stream",
     "text": [
      "JS(ben_texts || ben20-int80_texts) divergence: 17.385 bits\n",
      "JS(ben_texts || ben20-int80_texts) distance: 4.170\n"
     ]
    }
   ],
   "source": [
    "import math\n",
    "# calculate JS(P || Q)\n",
    "js_pq = js_divergence(np.asarray(ben_score_new), np.asarray(text_score_new))\n",
    "print('JS(ben_texts || ben20-int80_texts) divergence: %.3f bits' % js_pq)\n",
    "print('JS(ben_texts || ben20-int80_texts) distance: %.3f' % math.sqrt(js_pq))"
   ]
  },
  {
   "cell_type": "code",
   "execution_count": 30,
   "metadata": {},
   "outputs": [
    {
     "name": "stdout",
     "output_type": "stream",
     "text": [
      "JS(ben20-int80_texts || ben_texts) divergence: 17.385 bits\n",
      "JS(ben20-int80_texts || ben_texts) distance: 4.170\n"
     ]
    }
   ],
   "source": [
    "# calculate JS(Q || P)\n",
    "js_qp = js_divergence(np.asarray(ben_score_new), np.asarray(text_score_new))\n",
    "print('JS(ben20-int80_texts || ben_texts) divergence: %.3f bits' % js_qp)\n",
    "print('JS(ben20-int80_texts || ben_texts) distance: %.3f' % math.sqrt(js_qp))"
   ]
  },
  {
   "cell_type": "markdown",
   "metadata": {},
   "source": [
    "__METHOD 2__"
   ]
  },
  {
   "cell_type": "code",
   "execution_count": 31,
   "metadata": {},
   "outputs": [
    {
     "name": "stdout",
     "output_type": "stream",
     "text": [
      "JS(P || Q) Distance: 0.102\n",
      "JS(Q || P) Distance: 0.102\n"
     ]
    }
   ],
   "source": [
    "# calculate the jensen-shannon distance metric\n",
    "from scipy.spatial.distance import jensenshannon\n",
    "from numpy import asarray\n",
    "\n",
    "# calculate JS(P || Q)\n",
    "js_pq = jensenshannon(ben_score_new, text_score_new, base = 2)\n",
    "print('JS(P || Q) Distance: %.3f' % js_pq)\n",
    "# calculate JS(Q || P)\n",
    "js_qp = jensenshannon(text_score_new, ben_score_new, base = 2)\n",
    "print('JS(Q || P) Distance: %.3f' % js_qp)"
   ]
  },
  {
   "cell_type": "code",
   "execution_count": null,
   "metadata": {},
   "outputs": [],
   "source": []
  }
 ],
 "metadata": {
  "kernelspec": {
   "display_name": "Python 3",
   "language": "python",
   "name": "python3"
  },
  "language_info": {
   "codemirror_mode": {
    "name": "ipython",
    "version": 3
   },
   "file_extension": ".py",
   "mimetype": "text/x-python",
   "name": "python",
   "nbconvert_exporter": "python",
   "pygments_lexer": "ipython3",
   "version": "3.8.5"
  }
 },
 "nbformat": 4,
 "nbformat_minor": 4
}
