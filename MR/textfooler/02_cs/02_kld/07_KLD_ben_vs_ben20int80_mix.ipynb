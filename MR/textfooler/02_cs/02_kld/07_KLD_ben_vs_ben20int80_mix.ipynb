{
 "cells": [
  {
   "cell_type": "markdown",
   "metadata": {},
   "source": [
    "#### Importing packages"
   ]
  },
  {
   "cell_type": "code",
   "execution_count": 1,
   "metadata": {},
   "outputs": [],
   "source": [
    "import numpy as np\n",
    "import pandas as pd\n",
    "from scipy import sparse\n",
    "import seaborn as sns\n",
    "import matplotlib.pyplot as plt\n",
    "import random"
   ]
  },
  {
   "cell_type": "markdown",
   "metadata": {},
   "source": [
    "#### get benign scores"
   ]
  },
  {
   "cell_type": "code",
   "execution_count": 2,
   "metadata": {},
   "outputs": [
    {
     "data": {
      "text/plain": [
       "964"
      ]
     },
     "execution_count": 2,
     "metadata": {},
     "output_type": "execute_result"
    }
   ],
   "source": [
    "ben_score1 = []\n",
    "f = open('01_cs_ben100_file_seq.txt','r')\n",
    "\n",
    "for line in f:\n",
    "    ben_score1.append(line.strip())\n",
    "len(ben_score1)"
   ]
  },
  {
   "cell_type": "code",
   "execution_count": 3,
   "metadata": {},
   "outputs": [],
   "source": [
    "ben_score1 = [float(i) for i in ben_score1] "
   ]
  },
  {
   "cell_type": "code",
   "execution_count": 4,
   "metadata": {},
   "outputs": [],
   "source": [
    "#ben_score"
   ]
  },
  {
   "cell_type": "markdown",
   "metadata": {},
   "source": [
    "#### get benign 2 scores"
   ]
  },
  {
   "cell_type": "code",
   "execution_count": 5,
   "metadata": {},
   "outputs": [
    {
     "data": {
      "text/plain": [
       "964"
      ]
     },
     "execution_count": 5,
     "metadata": {},
     "output_type": "execute_result"
    }
   ],
   "source": [
    "txt_score = []\n",
    "f = open('07_cs_ben20int80_file_mix.txt','r')\n",
    "\n",
    "for line in f:\n",
    "    txt_score.append(line.strip())\n",
    "len(txt_score)"
   ]
  },
  {
   "cell_type": "code",
   "execution_count": 6,
   "metadata": {},
   "outputs": [],
   "source": [
    "txt_score = [float(i) for i in txt_score] "
   ]
  },
  {
   "cell_type": "code",
   "execution_count": 7,
   "metadata": {},
   "outputs": [],
   "source": [
    "#random.shuffle(txt_score)"
   ]
  },
  {
   "cell_type": "markdown",
   "metadata": {},
   "source": [
    "#### look at minimum scores in both lists"
   ]
  },
  {
   "cell_type": "code",
   "execution_count": 8,
   "metadata": {},
   "outputs": [
    {
     "data": {
      "text/plain": [
       "0.0"
      ]
     },
     "execution_count": 8,
     "metadata": {},
     "output_type": "execute_result"
    }
   ],
   "source": [
    "min(ben_score1)"
   ]
  },
  {
   "cell_type": "code",
   "execution_count": 9,
   "metadata": {
    "scrolled": false
   },
   "outputs": [
    {
     "data": {
      "text/plain": [
       "0.0"
      ]
     },
     "execution_count": 9,
     "metadata": {},
     "output_type": "execute_result"
    }
   ],
   "source": [
    "min(txt_score)"
   ]
  },
  {
   "cell_type": "markdown",
   "metadata": {},
   "source": [
    "#### need to remove zeroes"
   ]
  },
  {
   "cell_type": "code",
   "execution_count": 10,
   "metadata": {},
   "outputs": [],
   "source": [
    "count = 0\n",
    "for i in txt_score:\n",
    "    if i == 0:\n",
    "        count+=1"
   ]
  },
  {
   "cell_type": "code",
   "execution_count": 11,
   "metadata": {
    "scrolled": false
   },
   "outputs": [
    {
     "data": {
      "text/plain": [
       "113"
      ]
     },
     "execution_count": 11,
     "metadata": {},
     "output_type": "execute_result"
    }
   ],
   "source": [
    "count"
   ]
  },
  {
   "cell_type": "code",
   "execution_count": 12,
   "metadata": {},
   "outputs": [],
   "source": [
    "count = 0\n",
    "for i in ben_score1:\n",
    "    if i == 0:\n",
    "        count+=1"
   ]
  },
  {
   "cell_type": "code",
   "execution_count": 13,
   "metadata": {},
   "outputs": [
    {
     "data": {
      "text/plain": [
       "249"
      ]
     },
     "execution_count": 13,
     "metadata": {},
     "output_type": "execute_result"
    }
   ],
   "source": [
    "count"
   ]
  },
  {
   "cell_type": "code",
   "execution_count": 14,
   "metadata": {},
   "outputs": [],
   "source": [
    "ben_score = []\n",
    "for i in range(len(ben_score1)-1):\n",
    "    if ben_score1[i] != 0:\n",
    "        ben_score.append(ben_score1[i])"
   ]
  },
  {
   "cell_type": "code",
   "execution_count": 15,
   "metadata": {},
   "outputs": [],
   "source": [
    "text_score = []\n",
    "for i in range(len(txt_score)-1):\n",
    "    if txt_score[i] != 0:\n",
    "        text_score.append(txt_score[i])"
   ]
  },
  {
   "cell_type": "code",
   "execution_count": 16,
   "metadata": {},
   "outputs": [
    {
     "data": {
      "text/plain": [
       "0.019972058663135294"
      ]
     },
     "execution_count": 16,
     "metadata": {},
     "output_type": "execute_result"
    }
   ],
   "source": [
    "min(text_score)"
   ]
  },
  {
   "cell_type": "code",
   "execution_count": 17,
   "metadata": {},
   "outputs": [
    {
     "data": {
      "text/plain": [
       "0.02463323195410733"
      ]
     },
     "execution_count": 17,
     "metadata": {},
     "output_type": "execute_result"
    }
   ],
   "source": [
    "min(ben_score)"
   ]
  },
  {
   "cell_type": "markdown",
   "metadata": {},
   "source": [
    "#### check length of both lists now"
   ]
  },
  {
   "cell_type": "code",
   "execution_count": 18,
   "metadata": {},
   "outputs": [
    {
     "data": {
      "text/plain": [
       "851"
      ]
     },
     "execution_count": 18,
     "metadata": {},
     "output_type": "execute_result"
    }
   ],
   "source": [
    "len(text_score)"
   ]
  },
  {
   "cell_type": "code",
   "execution_count": 19,
   "metadata": {
    "scrolled": true
   },
   "outputs": [
    {
     "data": {
      "text/plain": [
       "714"
      ]
     },
     "execution_count": 19,
     "metadata": {},
     "output_type": "execute_result"
    }
   ],
   "source": [
    "len(ben_score)"
   ]
  },
  {
   "cell_type": "markdown",
   "metadata": {},
   "source": [
    "#### need to make both lists equal"
   ]
  },
  {
   "cell_type": "code",
   "execution_count": 20,
   "metadata": {},
   "outputs": [],
   "source": [
    "def make_equal(list1, list2):\n",
    "    if (len(list1) > len(list2)):\n",
    "        for i in range(len(list1)-len(list2)+1):\n",
    "            if i != 0:\n",
    "                list1.pop(len(list1)-1)\n",
    "    elif (len(list2) > len(list1)):\n",
    "        for i in range(len(list2)-len(list1)+1):\n",
    "            if i != 0:\n",
    "                list2.pop(len(list2)-1)"
   ]
  },
  {
   "cell_type": "code",
   "execution_count": 21,
   "metadata": {},
   "outputs": [],
   "source": [
    "make_equal(ben_score,text_score)"
   ]
  },
  {
   "cell_type": "code",
   "execution_count": 22,
   "metadata": {
    "scrolled": true
   },
   "outputs": [
    {
     "data": {
      "text/plain": [
       "714"
      ]
     },
     "execution_count": 22,
     "metadata": {},
     "output_type": "execute_result"
    }
   ],
   "source": [
    "len(ben_score)"
   ]
  },
  {
   "cell_type": "code",
   "execution_count": 23,
   "metadata": {},
   "outputs": [
    {
     "data": {
      "text/plain": [
       "714"
      ]
     },
     "execution_count": 23,
     "metadata": {},
     "output_type": "execute_result"
    }
   ],
   "source": [
    "len(text_score)"
   ]
  },
  {
   "cell_type": "markdown",
   "metadata": {},
   "source": [
    "### <font color='red'>__SKIP UPTO HERE__</font>"
   ]
  },
  {
   "cell_type": "markdown",
   "metadata": {},
   "source": [
    "### Plot both distributions"
   ]
  },
  {
   "cell_type": "code",
   "execution_count": 24,
   "metadata": {},
   "outputs": [
    {
     "data": {
      "text/plain": [
       "Text(0, 0.5, 'Density')"
      ]
     },
     "execution_count": 24,
     "metadata": {},
     "output_type": "execute_result"
    },
    {
     "data": {
      "image/png": "[encoded data removed]",
      "text/plain": [
       "<Figure size 432x288 with 1 Axes>"
      ]
     },
     "metadata": {
      "needs_background": "light"
     },
     "output_type": "display_data"
    }
   ],
   "source": [
    "# Density Plot and Histogram of all normalized benign scores\n",
    "sns.distplot(ben_score, hist=False, kde=True, \n",
    "             bins=int(180/5), color = 'green', \n",
    "             hist_kws={'edgecolor':'black'},\n",
    "             kde_kws={'shade': True , 'linewidth': 3}).set(xlim=(-0.3, 1.3),ylim=(0, 7))\n",
    "plt.title('Density Plot for Benign 100% Sequential Similarity Scores')\n",
    "plt.xlabel('Cosine Similarity')\n",
    "plt.ylabel('Density')"
   ]
  },
  {
   "cell_type": "code",
   "execution_count": 36,
   "metadata": {},
   "outputs": [
    {
     "data": {
      "image/png": "[encoded data removed]",
      "text/plain": [
       "<Figure size 432x288 with 1 Axes>"
      ]
     },
     "metadata": {
      "needs_background": "light"
     },
     "output_type": "display_data"
    }
   ],
   "source": [
    "plt.plot(ben_score)\n",
    "plt.ylabel(\"Cosine Similarity\")\n",
    "plt.show()"
   ]
  },
  {
   "cell_type": "code",
   "execution_count": 25,
   "metadata": {
    "scrolled": false
   },
   "outputs": [
    {
     "data": {
      "text/plain": [
       "Text(0, 0.5, 'Density')"
      ]
     },
     "execution_count": 25,
     "metadata": {},
     "output_type": "execute_result"
    },
    {
     "data": {
      "image/png": "[encoded data removed]",
      "text/plain": [
       "<Figure size 432x288 with 1 Axes>"
      ]
     },
     "metadata": {
      "needs_background": "light"
     },
     "output_type": "display_data"
    }
   ],
   "source": [
    "# Density Plot and Histogram of all normalized benign scores\n",
    "sns.distplot(text_score, hist=False, kde=True, \n",
    "             bins=int(180/5), color = 'orange', \n",
    "             hist_kws={'edgecolor':'black'},\n",
    "             kde_kws={'shade': True , 'linewidth': 3}).set(xlim=(-0.3, 1.3),ylim=(0, 10.5))\n",
    "plt.title('Density Plot for Benign 20% - Intermediate 80% MIX Similarity Scores')\n",
    "plt.xlabel('Cosine Similarity')\n",
    "plt.ylabel('Density')"
   ]
  },
  {
   "cell_type": "code",
   "execution_count": 37,
   "metadata": {},
   "outputs": [
    {
     "data": {
      "image/png": "[encoded data removed]",
      "text/plain": [
       "<Figure size 432x288 with 1 Axes>"
      ]
     },
     "metadata": {
      "needs_background": "light"
     },
     "output_type": "display_data"
    }
   ],
   "source": [
    "plt.plot(text_score)\n",
    "plt.ylabel(\"Cosine Similarity\")\n",
    "plt.show()"
   ]
  },
  {
   "cell_type": "markdown",
   "metadata": {},
   "source": [
    "### Divergence \n",
    "<br>\n",
    "There are many situations where we may want to compare two probability distributions.\n",
    "<br> <br>\n",
    "Specifically, we may have a single random variable and two different probability distributions for the variable, such as a true distribution and an approximation of that distribution.\n",
    "<br> <br>\n",
    "In situations like this, it can be useful to quantify the difference between the distributions. Generally, this is referred to as the problem of calculating the statistical distance between two statistical objects, e.g. probability distributions.\n",
    "<br> <br>\n",
    "One approach is to calculate a distance measure between the two distributions. This can be challenging as it can be difficult to interpret the measure.\n",
    "<br> <br>\n",
    "Instead, it is more common to calculate a divergence between two probability distributions. A divergence is like a measure but is not symmetrical. This means that a divergence is a scoring of how one distribution differs from another, where calculating the divergence for distributions P and Q would give a different score from Q and P."
   ]
  },
  {
   "cell_type": "markdown",
   "metadata": {},
   "source": [
    "### Kullback Leibler\n",
    "\n",
    "__Calculations__ <br> <br>\n",
    "The Kullback-Leibler Divergence score, or KL divergence score, quantifies how much one probability distribution differs from another probability distribution.\n",
    "<br> <br>\n",
    "The KL divergence between two distributions Q and P is often stated using the following notation:\n",
    "<br> <br>\n",
    "KL(P || Q)\n",
    "Where the “||” operator indicates “divergence” or Ps divergence from Q.\n",
    "<br> <br>\n",
    "KL divergence can be calculated as the negative sum of probability of each event in P multiplied by the log of the probability of the event in Q over the probability of the event in P.\n",
    "<br> <br>\n",
    "KL(P || Q) = – sum x in X P(x) * log(Q(x) / P(x))\n",
    "The value within the sum is the divergence for a given event\n",
    "<br> <br>\n",
    "This is the same as the positive sum of probability of each event in P multiplied by the log of the probability of the event in P over the probability of the event in Q (e.g. the terms in the fraction are flipped). This is the more common implementation used in practice.\n",
    "<br> <br>\n",
    "KL(P || Q) = sum x in X P(x) * log(P(x) / Q(x))\n",
    "<br> <br>\n",
    "__Intuition__ <br> <br>\n",
    "The intuition for the KL divergence score is that when the probability for an event from P is large, but the probability for the same event in Q is small, there is a large divergence. When the probability from P is small and the probability from Q is large, there is also a large divergence, but not as large as the first case.\n",
    "<br> <br>\n",
    "__When the score is 0, it suggests that both distributions are identical, otherwise the score is positive.__\n",
    "<br> <br>\n",
    "Importantly, the KL divergence score is not symmetrical, for example:\n",
    "<br> <br>\n",
    "KL(P || Q) != KL(Q || P)"
   ]
  },
  {
   "cell_type": "markdown",
   "metadata": {},
   "source": [
    "__METHOD 1__ <br>\n",
    "\n",
    "<font color='red'>__in nats (log e)__</font>"
   ]
  },
  {
   "cell_type": "code",
   "execution_count": 26,
   "metadata": {},
   "outputs": [
    {
     "name": "stdout",
     "output_type": "stream",
     "text": [
      "KL(Text_Score || Ben_Score): 818.487 nats\n",
      "KL(Ben_Score || Text_Score): -105.276 nats\n"
     ]
    }
   ],
   "source": [
    "# example of calculating the kl divergence (relative entropy) with scipy\n",
    "from scipy.special import rel_entr\n",
    "# define distributions\n",
    "#p = [0.10, 0.40, 0.50]\n",
    "#q = [0.80, 0.15, 0.05]\n",
    "# calculate (P || Q)\n",
    "kl_pq = rel_entr(text_score, ben_score)\n",
    "print('KL(Text_Score || Ben_Score): %.3f nats' % sum(kl_pq))\n",
    "# calculate (Q || P)\n",
    "kl_qp = rel_entr(ben_score, text_score)\n",
    "print('KL(Ben_Score || Text_Score): %.3f nats' % sum(kl_qp))"
   ]
  },
  {
   "cell_type": "markdown",
   "metadata": {},
   "source": [
    "__METHOD 2__\n",
    "\n",
    "<font color='red'>__in bits (log 2)__</font>"
   ]
  },
  {
   "cell_type": "code",
   "execution_count": 27,
   "metadata": {},
   "outputs": [],
   "source": [
    "# calculate the kl divergence\n",
    "def kl_divergence(p, q):\n",
    "    return sum(p[i] * log2(p[i]/q[i]) for i in range(len(p)))"
   ]
  },
  {
   "cell_type": "code",
   "execution_count": 28,
   "metadata": {},
   "outputs": [],
   "source": [
    "from math import log2"
   ]
  },
  {
   "cell_type": "code",
   "execution_count": 29,
   "metadata": {
    "scrolled": true
   },
   "outputs": [
    {
     "name": "stdout",
     "output_type": "stream",
     "text": [
      "KL(Text_Score || Ben_Score): 1180.828 bits\n",
      "KL(Ben_Score || Text_Score): -151.881 bits\n"
     ]
    }
   ],
   "source": [
    "# calculate (ben_score || text_score)\n",
    "kl_pq = kl_divergence(text_score, ben_score)\n",
    "print('KL(Text_Score || Ben_Score): %.3f bits' % kl_pq)\n",
    "# calculate (Q || P)\n",
    "kl_qp = kl_divergence(ben_score, text_score)\n",
    "print('KL(Ben_Score || Text_Score): %.3f bits' % kl_qp)"
   ]
  },
  {
   "cell_type": "markdown",
   "metadata": {},
   "source": [
    "#### <font color='red'>Divergence of Benign Texts with itself</font>"
   ]
  },
  {
   "cell_type": "code",
   "execution_count": 30,
   "metadata": {},
   "outputs": [
    {
     "name": "stdout",
     "output_type": "stream",
     "text": [
      "KL(Ben_Score || Ben_Score): 0.000 bits\n",
      "KL(Ben_Score || Ben_Score): 0.000 bits\n"
     ]
    }
   ],
   "source": [
    "# calculate (ben_score || text_score)\n",
    "kl_pq = kl_divergence(ben_score, ben_score)\n",
    "print('KL(Ben_Score || Ben_Score): %.3f bits' % kl_pq)\n",
    "# calculate (Q || P)\n",
    "kl_qp = kl_divergence(ben_score, ben_score)\n",
    "print('KL(Ben_Score || Ben_Score): %.3f bits' % kl_qp)"
   ]
  },
  {
   "cell_type": "markdown",
   "metadata": {},
   "source": [
    "### Jensen-Shannon Divergence\n",
    "__Calculations__ <br> <br>\n",
    "The Jensen-Shannon divergence, or JS divergence for short, is another way to quantify the difference (or similarity) between two probability distributions.\n",
    "<br> <br>\n",
    "It uses the KL divergence to calculate a normalized score that is symmetrical. This means that the divergence of P from Q is the same as Q from P, or stated formally:\n",
    "<br> <br>\n",
    "JS(P || Q) == JS(Q || P)\n",
    "The JS divergence can be calculated as follows:\n",
    "<br> <br>\n",
    "JS(P || Q) = 1/2 * KL(P || M) + 1/2 * KL(Q || M)\n",
    "Where M is calculated as:\n",
    "<br> <br>\n",
    "M = 1/2 * (P + Q)\n",
    "And KL() is calculated as the KL divergence described in the previous section.\n",
    "<br> <br>\n",
    "It is more useful as a measure as it provides a smoothed and normalized version of KL divergence, with scores between 0 (identical) and 1 (maximally different), when using the base-2 logarithm.\n",
    "<br> <br>\n",
    "The square root of the score gives a quantity referred to as the Jensen-Shannon distance, or JS distance for short."
   ]
  },
  {
   "cell_type": "markdown",
   "metadata": {},
   "source": [
    "__METHOD 1__"
   ]
  },
  {
   "cell_type": "code",
   "execution_count": 31,
   "metadata": {},
   "outputs": [],
   "source": [
    "# calculate the kl divergence\n",
    "def kl_divergence(p, q):\n",
    "    return sum(p[i] * log2(p[i]/q[i]) for i in range(len(p)))\n",
    "\n",
    "# calculate the js divergence\n",
    "def js_divergence(p, q):\n",
    "    m = 0.5 * (p + q)\n",
    "    return 0.5 * kl_divergence(p, m) + 0.5 * kl_divergence(q, m)"
   ]
  },
  {
   "cell_type": "code",
   "execution_count": 32,
   "metadata": {},
   "outputs": [],
   "source": [
    "import math"
   ]
  },
  {
   "cell_type": "code",
   "execution_count": 33,
   "metadata": {},
   "outputs": [
    {
     "name": "stdout",
     "output_type": "stream",
     "text": [
      "JS(ben_score || text_score) divergence: 108.083 bits\n",
      "JS(text_score || ben_score) distance: 10.396\n"
     ]
    }
   ],
   "source": [
    "# calculate JS(P || Q)\n",
    "js_pq = js_divergence(np.asarray(ben_score), np.asarray(text_score))\n",
    "print('JS(ben_score || text_score) divergence: %.3f bits' % js_pq)\n",
    "print('JS(text_score || ben_score) distance: %.3f' % math.sqrt(js_pq))"
   ]
  },
  {
   "cell_type": "code",
   "execution_count": 34,
   "metadata": {},
   "outputs": [
    {
     "name": "stdout",
     "output_type": "stream",
     "text": [
      "JS(text_score || ben_score) divergence: 108.083 bits\n",
      "JS(text_score || ben_score) distance: 10.396\n"
     ]
    }
   ],
   "source": [
    "# calculate JS(Q || P)\n",
    "js_qp = js_divergence(np.asarray(ben_score), np.asarray(text_score))\n",
    "print('JS(text_score || ben_score) divergence: %.3f bits' % js_qp)\n",
    "print('JS(text_score || ben_score) distance: %.3f' % math.sqrt(js_qp))"
   ]
  },
  {
   "cell_type": "code",
   "execution_count": 35,
   "metadata": {},
   "outputs": [
    {
     "name": "stdout",
     "output_type": "stream",
     "text": [
      "JS(ben_texts || ben_texts) divergence: 0.000 bits\n",
      "JS(ben_texts || ben_texts) distance: 0.000\n"
     ]
    }
   ],
   "source": [
    "# calculate JS(Q || P)\n",
    "js_qp = js_divergence(np.asarray(ben_score), np.asarray(ben_score))\n",
    "print('JS(ben_texts || ben_texts) divergence: %.3f bits' % js_qp)\n",
    "print('JS(ben_texts || ben_texts) distance: %.3f' % math.sqrt(js_qp))"
   ]
  }
 ],
 "metadata": {
  "kernelspec": {
   "display_name": "Python 3",
   "language": "python",
   "name": "python3"
  },
  "language_info": {
   "codemirror_mode": {
    "name": "ipython",
    "version": 3
   },
   "file_extension": ".py",
   "mimetype": "text/x-python",
   "name": "python",
   "nbconvert_exporter": "python",
   "pygments_lexer": "ipython3",
   "version": "3.8.5"
  }
 },
 "nbformat": 4,
 "nbformat_minor": 4
}
